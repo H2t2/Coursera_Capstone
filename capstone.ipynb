{
 "cells": [
  {
   "cell_type": "markdown",
   "metadata": {},
   "source": [
    "Needed Libraries\n",
    "\n",
    "- Note about installing necessary packages\n",
    "- Look up proper way to note libraries needed"
   ]
  },
  {
   "cell_type": "code",
   "execution_count": 2,
   "metadata": {},
   "outputs": [],
   "source": [
    "# Data Analysis Packages\n",
    "import numpy as np\n",
    "import pandas as pd\n",
    "import matplotlib as mpl\n",
    "import sklearn\n",
    "\n",
    "# -- Utility Packages\n",
    "import bs4\n",
    "\n",
    "# ---- Folium for Map Generation\n",
    "import folium\n",
    "\n",
    "# ---- Packages used for API calls\n",
    "import requests\n",
    "\n",
    "# ---- os for drawing out API keys from enviroment variables\n",
    "import os\n",
    "\n",
    "from sklearn.cluster import KMeans\n",
    "import matplotlib.cm as cm\n",
    "import matplotlib.colors as colors"
   ]
  },
  {
   "cell_type": "code",
   "execution_count": null,
   "metadata": {},
   "outputs": [],
   "source": [
    "# Retrieve Secret and ID from Enviroment Variables\n",
    "CLIENT_ID = os.getenv('CLIENT_ID')\n",
    "CLIENT_SECRET = os.getenv('CLIENT_SECRET')\n",
    "VERSION = '20180323'"
   ]
  },
  {
   "cell_type": "code",
   "execution_count": 4,
   "metadata": {
    "tags": []
   },
   "outputs": [
    {
     "data": {
      "text/plain": [
       "<Response [200]>"
      ]
     },
     "execution_count": 4,
     "metadata": {},
     "output_type": "execute_result"
    }
   ],
   "source": [
    "r = requests.get('https://media.ocgov.com/about/infooc/links/oc/occities.asp')\n",
    "soup = bs4.BeautifulSoup(r.text)"
   ]
  },
  {
   "cell_type": "code",
   "execution_count": 41,
   "metadata": {},
   "outputs": [
    {
     "data": {
      "text/plain": [
       "['Aliso Viejo',\n",
       " 'Anaheim',\n",
       " 'Brea',\n",
       " 'Buena Park',\n",
       " 'Costa Mesa',\n",
       " 'Cypress',\n",
       " 'Dana Point',\n",
       " 'Fountain Valley',\n",
       " 'Fullerton',\n",
       " 'Garden Grove',\n",
       " 'Huntington Beach',\n",
       " 'Irvine',\n",
       " 'La Habra',\n",
       " 'La Palma',\n",
       " 'Laguna Beach',\n",
       " 'Laguna Hills',\n",
       " 'Laguna Niguel',\n",
       " 'Laguna Woods',\n",
       " 'Lake Forest',\n",
       " 'Los Alamitos',\n",
       " 'Mission Viejo',\n",
       " 'Newport Beach',\n",
       " 'Orange',\n",
       " 'Placentia',\n",
       " 'Rancho Santa Margarita',\n",
       " 'San Clemente',\n",
       " 'San Juan Capistrano',\n",
       " 'Santa Ana',\n",
       " 'Seal Beach',\n",
       " 'Stanton',\n",
       " 'Tustin',\n",
       " 'Villa Park',\n",
       " 'Westminster',\n",
       " 'Yorba Linda']"
      ]
     },
     "execution_count": 41,
     "metadata": {},
     "output_type": "execute_result"
    }
   ],
   "source": [
    "oc_city_list = []\n",
    "for cityTag in soup.select('div.edtdiv ul > li div a'):\n",
    "    city_string = str(cityTag.string)\n",
    "    # Strip out 'City of'\n",
    "    city_string = city_string[8:]\n",
    "    oc_city_list.append(city_string)\n",
    "oc_city_list"
   ]
  },
  {
   "cell_type": "code",
   "execution_count": 4,
   "metadata": {},
   "outputs": [],
   "source": [
    "oc_df = pd.read_csv('oc_census_data.csv')\n",
    "\n",
    "oc_df = oc_df.transpose()"
   ]
  },
  {
   "cell_type": "code",
   "execution_count": 7,
   "metadata": {},
   "outputs": [
    {
     "data": {
      "text/plain": [
       "0     object\n",
       "1     object\n",
       "2     object\n",
       "3     object\n",
       "4     object\n",
       "5     object\n",
       "6     object\n",
       "7     object\n",
       "8     object\n",
       "9     object\n",
       "10    object\n",
       "11    object\n",
       "12    object\n",
       "13    object\n",
       "14    object\n",
       "15    object\n",
       "16    object\n",
       "17    object\n",
       "18    object\n",
       "19    object\n",
       "20    object\n",
       "21    object\n",
       "22    object\n",
       "23    object\n",
       "24    object\n",
       "25    object\n",
       "26    object\n",
       "27    object\n",
       "28    object\n",
       "29    object\n",
       "30    object\n",
       "31    object\n",
       "32    object\n",
       "33    object\n",
       "34    object\n",
       "35    object\n",
       "36    object\n",
       "37    object\n",
       "dtype: object"
      ]
     },
     "execution_count": 7,
     "metadata": {},
     "output_type": "execute_result"
    }
   ],
   "source": [
    "oc_df.dtypes"
   ]
  },
  {
   "cell_type": "code",
   "execution_count": null,
   "metadata": {},
   "outputs": [],
   "source": []
  }
 ],
 "metadata": {
  "kernelspec": {
   "display_name": "Python 3",
   "language": "python",
   "name": "python3"
  },
  "language_info": {
   "codemirror_mode": {
    "name": "ipython",
    "version": 3
   },
   "file_extension": ".py",
   "mimetype": "text/x-python",
   "name": "python",
   "nbconvert_exporter": "python",
   "pygments_lexer": "ipython3",
   "version": "3.8.4"
  }
 },
 "nbformat": 4,
 "nbformat_minor": 4
}
