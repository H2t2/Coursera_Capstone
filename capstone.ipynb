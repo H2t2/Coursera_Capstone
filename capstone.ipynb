{
 "cells": [
  {
   "cell_type": "markdown",
   "metadata": {},
   "source": [
    "Needed Libraries\n",
    "\n",
    "- Note about installing necessary packages\n",
    "- Look up proper way to note libraries needed"
   ]
  },
  {
   "cell_type": "code",
   "execution_count": 2,
   "metadata": {},
   "outputs": [],
   "source": [
    "# Data Analysis Packages\n",
    "import numpy as np\n",
    "import pandas as pd\n",
    "import matplotlib as mpl\n",
    "import sklearn\n",
    "\n",
    "# -- Utility Packages\n",
    "import bs4\n",
    "\n",
    "# ---- Folium for Map Generation\n",
    "import folium\n",
    "\n",
    "# ---- Packages used for API calls\n",
    "import requests\n",
    "import json\n",
    "\n",
    "# ---- os for drawing out API keys from enviroment variables\n",
    "import os\n",
    "\n",
    "from sklearn.cluster import KMeans\n",
    "import matplotlib.cm as cm\n",
    "import matplotlib.colors as colors"
   ]
  },
  {
   "cell_type": "code",
   "execution_count": 12,
   "metadata": {},
   "outputs": [],
   "source": [
    "# Retrieve Secret and ID from Enviroment Variables\n",
    "%load_ext dotenv\n",
    "%dotenv\n",
    "\n",
    "CLIENT_ID = os.getenv('CLIENT_ID')\n",
    "CLIENT_SECRET = os.getenv('CLIENT_SECRET')\n",
    "VERSION = '20180323'"
   ]
  },
  {
   "cell_type": "markdown",
   "metadata": {
    "tags": []
   },
   "source": [
    "Pull list of Cities from Orange County Website"
   ]
  },
  {
   "cell_type": "code",
   "execution_count": 3,
   "metadata": {},
   "outputs": [
    {
     "data": {
      "text/plain": [
       "['Aliso Viejo',\n",
       " 'Anaheim',\n",
       " 'Brea',\n",
       " 'Buena Park',\n",
       " 'Costa Mesa',\n",
       " 'Cypress',\n",
       " 'Dana Point',\n",
       " 'Fountain Valley',\n",
       " 'Fullerton',\n",
       " 'Garden Grove',\n",
       " 'Huntington Beach',\n",
       " 'Irvine',\n",
       " 'La Habra',\n",
       " 'La Palma',\n",
       " 'Laguna Beach',\n",
       " 'Laguna Hills',\n",
       " 'Laguna Niguel',\n",
       " 'Laguna Woods',\n",
       " 'Lake Forest',\n",
       " 'Los Alamitos',\n",
       " 'Mission Viejo',\n",
       " 'Newport Beach',\n",
       " 'Orange',\n",
       " 'Placentia',\n",
       " 'Rancho Santa Margarita',\n",
       " 'San Clemente',\n",
       " 'San Juan Capistrano',\n",
       " 'Santa Ana',\n",
       " 'Seal Beach',\n",
       " 'Stanton',\n",
       " 'Tustin',\n",
       " 'Villa Park',\n",
       " 'Westminster',\n",
       " 'Yorba Linda']"
      ]
     },
     "execution_count": 3,
     "metadata": {},
     "output_type": "execute_result"
    }
   ],
   "source": [
    "r = requests.get('https://media.ocgov.com/about/infooc/links/oc/occities.asp')\n",
    "soup = bs4.BeautifulSoup(r.text)\n",
    "\n",
    "oc_city_list = []\n",
    "for cityTag in soup.select('div.edtdiv ul > li div a'):\n",
    "    city_string = str(cityTag.string)\n",
    "    # Strip out 'City of'\n",
    "    city_string = city_string[8:]\n",
    "    oc_city_list.append(city_string)\n",
    "oc_city_list"
   ]
  },
  {
   "cell_type": "markdown",
   "metadata": {},
   "source": [
    "Restaurant list will be built from calls to Foursquare's Places API\n",
    "\n",
    "The Endpoint will be search in the venues group (https://developer.foursquare.com/docs/api-reference/venues/search/)"
   ]
  },
  {
   "cell_type": "markdown",
   "metadata": {},
   "source": [
    "Test API Endpoint with Aliso Viejo"
   ]
  },
  {
   "cell_type": "code",
   "execution_count": 26,
   "metadata": {},
   "outputs": [],
   "source": [
    "url = \"https://api.foursquare.com/v2/venues/search\"\n",
    "\n",
    "# Category ID for the Food category on Foursquare\n",
    "catID = \"4d4b7105d754a06374d81259\"\n",
    "\n",
    "params = dict(\n",
    "    client_id = CLIENT_ID,\n",
    "    client_secret = CLIENT_SECRET,\n",
    "    v = VERSION,\n",
    "    near = 'Aliso Viejo, CA',\n",
    "    limit = 50,\n",
    "    categoryId = catID,\n",
    "    radius = 4000\n",
    ")\n",
    "\n",
    "resp = requests.get(url=url, params=params)\n",
    "data = json.loads(resp.text)"
   ]
  },
  {
   "cell_type": "code",
   "execution_count": 25,
   "metadata": {},
   "outputs": [
    {
     "data": {
      "text/plain": [
       "{'id': '565d2265498ee06d2a765f5c',\n",
       " 'name': \"Raising Cane's Chicken Fingers\",\n",
       " 'contact': {},\n",
       " 'location': {'address': '26801 Aliso Creek Rd',\n",
       "  'lat': 33.57295113035663,\n",
       "  'lng': -117.72392728155775,\n",
       "  'labeledLatLngs': [{'label': 'display',\n",
       "    'lat': 33.57295113035663,\n",
       "    'lng': -117.72392728155775},\n",
       "   {'label': 'entrance', 'lat': 33.573033, 'lng': -117.723768}],\n",
       "  'postalCode': '92656',\n",
       "  'cc': 'US',\n",
       "  'city': 'Aliso Viejo',\n",
       "  'state': 'CA',\n",
       "  'country': 'United States',\n",
       "  'formattedAddress': ['26801 Aliso Creek Rd',\n",
       "   'Aliso Viejo, CA 92656',\n",
       "   'United States']},\n",
       " 'categories': [{'id': '4d4ae6fc7a7b7dea34424761',\n",
       "   'name': 'Fried Chicken Joint',\n",
       "   'pluralName': 'Fried Chicken Joints',\n",
       "   'shortName': 'Fried Chicken',\n",
       "   'icon': {'prefix': 'https://ss3.4sqi.net/img/categories_v2/food/friedchicken_',\n",
       "    'suffix': '.png'},\n",
       "   'primary': True}],\n",
       " 'verified': True,\n",
       " 'stats': {'tipCount': 0,\n",
       "  'usersCount': 0,\n",
       "  'checkinsCount': 0,\n",
       "  'visitsCount': 0},\n",
       " 'beenHere': {'count': 0,\n",
       "  'lastCheckinExpiredAt': 0,\n",
       "  'marked': False,\n",
       "  'unconfirmedCount': 0},\n",
       " 'hereNow': {'count': 0, 'summary': 'Nobody here', 'groups': []},\n",
       " 'referralId': 'v-1596855559',\n",
       " 'venueChains': [],\n",
       " 'hasPerk': False}"
      ]
     },
     "execution_count": 25,
     "metadata": {},
     "output_type": "execute_result"
    }
   ],
   "source": [
    "venues = data['response']['venues']\n",
    "venues[0]"
   ]
  },
  {
   "cell_type": "code",
   "execution_count": null,
   "metadata": {},
   "outputs": [],
   "source": []
  }
 ],
 "metadata": {
  "kernelspec": {
   "display_name": "Python 3",
   "language": "python",
   "name": "python3"
  },
  "language_info": {
   "codemirror_mode": {
    "name": "ipython",
    "version": 3
   },
   "file_extension": ".py",
   "mimetype": "text/x-python",
   "name": "python",
   "nbconvert_exporter": "python",
   "pygments_lexer": "ipython3",
   "version": "3.8.4"
  }
 },
 "nbformat": 4,
 "nbformat_minor": 4
}
