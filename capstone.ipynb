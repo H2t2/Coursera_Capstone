{
 "cells": [
  {
   "cell_type": "markdown",
   "metadata": {},
   "source": [
    "Needed Libraries\n",
    "\n",
    "- Note about installing necessary packages\n",
    "- Look up proper way to note libraries needed"
   ]
  },
  {
   "cell_type": "code",
   "execution_count": null,
   "metadata": {},
   "outputs": [],
   "source": [
    "%load_ext dotenv"
   ]
  },
  {
   "cell_type": "code",
   "execution_count": 2,
   "metadata": {},
   "outputs": [],
   "source": [
    "# Data Analysis Packages\n",
    "import numpy as np\n",
    "import pandas as pd\n",
    "import matplotlib as mpl\n",
    "import sklearn\n",
    "\n",
    "# -- Utility Packages\n",
    "import bs4\n",
    "\n",
    "# ---- Folium for Map Generation\n",
    "import folium\n",
    "\n",
    "# ---- Packages used for API calls\n",
    "import requests\n",
    "import json\n",
    "\n",
    "# ---- os for drawing out API keys from enviroment variables\n",
    "import os\n",
    "\n",
    "from sklearn.cluster import KMeans\n",
    "import matplotlib.cm as cm\n",
    "import matplotlib.colors as colors"
   ]
  },
  {
   "cell_type": "code",
   "execution_count": 3,
   "metadata": {},
   "outputs": [
    {
     "name": "stdout",
     "output_type": "stream",
     "text": [
      "The dotenv extension is already loaded. To reload it, use:\n",
      "  %reload_ext dotenv\n"
     ]
    }
   ],
   "source": [
    "# Retrieve Secret and ID from Enviroment Variables\n",
    "%dotenv\n",
    "\n",
    "YELP_CLIENT_ID = os.getenv('YELP_CLIENT_ID')\n",
    "YELP_API_KEY = os.getenv('YELP_API_KEY')\n",
    "\n",
    "# Code for Foursquare API\n",
    "# CLIENT_ID = os.getenv('CLIENT_ID')\n",
    "# CLIENT_SECRET = os.getenv('CLIENT_SECRET')\n",
    "# VERSION = '20180323'"
   ]
  },
  {
   "cell_type": "markdown",
   "metadata": {
    "tags": []
   },
   "source": [
    "Pull list of Cities from Orange County Website"
   ]
  },
  {
   "cell_type": "code",
   "execution_count": 3,
   "metadata": {},
   "outputs": [
    {
     "data": {
      "text/plain": [
       "['Aliso Viejo',\n",
       " 'Anaheim',\n",
       " 'Brea',\n",
       " 'Buena Park',\n",
       " 'Costa Mesa',\n",
       " 'Cypress',\n",
       " 'Dana Point',\n",
       " 'Fountain Valley',\n",
       " 'Fullerton',\n",
       " 'Garden Grove',\n",
       " 'Huntington Beach',\n",
       " 'Irvine',\n",
       " 'La Habra',\n",
       " 'La Palma',\n",
       " 'Laguna Beach',\n",
       " 'Laguna Hills',\n",
       " 'Laguna Niguel',\n",
       " 'Laguna Woods',\n",
       " 'Lake Forest',\n",
       " 'Los Alamitos',\n",
       " 'Mission Viejo',\n",
       " 'Newport Beach',\n",
       " 'Orange',\n",
       " 'Placentia',\n",
       " 'Rancho Santa Margarita',\n",
       " 'San Clemente',\n",
       " 'San Juan Capistrano',\n",
       " 'Santa Ana',\n",
       " 'Seal Beach',\n",
       " 'Stanton',\n",
       " 'Tustin',\n",
       " 'Villa Park',\n",
       " 'Westminster',\n",
       " 'Yorba Linda']"
      ]
     },
     "execution_count": 3,
     "metadata": {},
     "output_type": "execute_result"
    }
   ],
   "source": [
    "r = requests.get('https://media.ocgov.com/about/infooc/links/oc/occities.asp')\n",
    "soup = bs4.BeautifulSoup(r.text)\n",
    "\n",
    "oc_city_list = []\n",
    "for cityTag in soup.select('div.edtdiv ul > li div a'):\n",
    "    city_string = str(cityTag.string)\n",
    "    # Strip out 'City of'\n",
    "    city_string = city_string[8:]\n",
    "    oc_city_list.append(city_string)\n",
    "oc_city_list"
   ]
  },
  {
   "cell_type": "markdown",
   "metadata": {},
   "source": [
    "Restaurant list will be built from calls to Yelp's Fusion API\n",
    "\n",
    "The Endpoint will be businesses search (https://www.yelp.com/developers/documentation/v3/business_search)"
   ]
  },
  {
   "cell_type": "markdown",
   "metadata": {},
   "source": [
    "Test API Endpoint with Aliso Viejo"
   ]
  },
  {
   "cell_type": "code",
   "execution_count": 30,
   "metadata": {},
   "outputs": [],
   "source": [
    "url = \"https://api.yelp.com/v3/businesses/search\"\n",
    "headers = dict(\n",
    "    Authorization = 'Bearer ' + YELP_API_KEY\n",
    ")\n",
    "params = dict(\n",
    "    location = 'Aliso Viejo, CA',\n",
    "    limit = 50,\n",
    "    categories = 'Food',\n",
    "    radius = 4000,\n",
    "    sort_by = 'distance'\n",
    ")\n",
    "\n",
    "resp = requests.get(headers=headers, url=url, params=params)\n",
    "data = json.loads(resp.text)"
   ]
  },
  {
   "cell_type": "code",
   "execution_count": 31,
   "metadata": {},
   "outputs": [],
   "source": [
    "businesses = data['businesses']\n",
    "\n",
    "aliso_viejo_spots = []\n",
    "\n",
    "for business in businesses:\n",
    "    if(business['location']['city'] == 'Aliso Viejo'):\n",
    "        aliso_viejo_spots.append(business)"
   ]
  },
  {
   "cell_type": "code",
   "execution_count": 32,
   "metadata": {},
   "outputs": [
    {
     "data": {
      "text/plain": [
       "50"
      ]
     },
     "execution_count": 32,
     "metadata": {},
     "output_type": "execute_result"
    }
   ],
   "source": [
    "len(aliso_viejo_spots)"
   ]
  },
  {
   "cell_type": "code",
   "execution_count": null,
   "metadata": {},
   "outputs": [],
   "source": []
  },
  {
   "cell_type": "code",
   "execution_count": 28,
   "metadata": {},
   "outputs": [
    {
     "data": {
      "text/plain": [
       "['hi']"
      ]
     },
     "execution_count": 28,
     "metadata": {},
     "output_type": "execute_result"
    }
   ],
   "source": [
    "\n"
   ]
  },
  {
   "cell_type": "code",
   "execution_count": null,
   "metadata": {},
   "outputs": [],
   "source": []
  }
 ],
 "metadata": {
  "kernelspec": {
   "display_name": "Python 3",
   "language": "python",
   "name": "python3"
  },
  "language_info": {
   "codemirror_mode": {
    "name": "ipython",
    "version": 3
   },
   "file_extension": ".py",
   "mimetype": "text/x-python",
   "name": "python",
   "nbconvert_exporter": "python",
   "pygments_lexer": "ipython3",
   "version": "3.8.4"
  }
 },
 "nbformat": 4,
 "nbformat_minor": 4
}
