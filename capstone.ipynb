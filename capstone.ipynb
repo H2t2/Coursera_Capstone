{
 "cells": [
  {
   "cell_type": "markdown",
   "metadata": {},
   "source": [
    "Needed Libraries\n",
    "\n",
    "- Note about installing necessary packages\n",
    "- Look up proper way to note libraries needed"
   ]
  },
  {
   "cell_type": "code",
   "execution_count": 2,
   "metadata": {
    "collapsed": true,
    "jupyter": {
     "outputs_hidden": true
    }
   },
   "outputs": [
    {
     "name": "stdout",
     "output_type": "stream",
     "text": [
      "Defaulting to user installation because normal site-packages is not writeable\n",
      "Requirement already up-to-date: sklearn in c:\\users\\harry\\appdata\\roaming\\python\\python38\\site-packages (0.0)\n",
      "Requirement already satisfied, skipping upgrade: scikit-learn in c:\\users\\harry\\appdata\\roaming\\python\\python38\\site-packages (from sklearn) (0.23.1)\n",
      "Requirement already satisfied, skipping upgrade: joblib>=0.11 in c:\\users\\harry\\appdata\\roaming\\python\\python38\\site-packages (from scikit-learn->sklearn) (0.16.0)\n",
      "Requirement already satisfied, skipping upgrade: scipy>=0.19.1 in c:\\users\\harry\\appdata\\roaming\\python\\python38\\site-packages (from scikit-learn->sklearn) (1.5.1)\n",
      "Requirement already satisfied, skipping upgrade: threadpoolctl>=2.0.0 in c:\\users\\harry\\appdata\\roaming\\python\\python38\\site-packages (from scikit-learn->sklearn) (2.1.0)\n",
      "Requirement already satisfied, skipping upgrade: numpy>=1.13.3 in c:\\users\\harry\\appdata\\roaming\\python\\python38\\site-packages (from scikit-learn->sklearn) (1.19.0)\n",
      "Defaulting to user installation because normal site-packages is not writeable\n",
      "Requirement already up-to-date: matplotlib in c:\\users\\harry\\appdata\\roaming\\python\\python38\\site-packages (3.3.0)\n",
      "Requirement already satisfied, skipping upgrade: numpy>=1.15 in c:\\users\\harry\\appdata\\roaming\\python\\python38\\site-packages (from matplotlib) (1.19.0)\n",
      "Requirement already satisfied, skipping upgrade: kiwisolver>=1.0.1 in c:\\users\\harry\\appdata\\roaming\\python\\python38\\site-packages (from matplotlib) (1.2.0)\n",
      "Requirement already satisfied, skipping upgrade: pyparsing!=2.0.4,!=2.1.2,!=2.1.6,>=2.0.3 in c:\\users\\harry\\appdata\\roaming\\python\\python38\\site-packages (from matplotlib) (2.4.7)\n",
      "Requirement already satisfied, skipping upgrade: cycler>=0.10 in c:\\users\\harry\\appdata\\roaming\\python\\python38\\site-packages (from matplotlib) (0.10.0)\n",
      "Requirement already satisfied, skipping upgrade: python-dateutil>=2.1 in c:\\users\\harry\\appdata\\roaming\\python\\python38\\site-packages (from matplotlib) (2.8.1)\n",
      "Requirement already satisfied, skipping upgrade: pillow>=6.2.0 in c:\\users\\harry\\appdata\\roaming\\python\\python38\\site-packages (from matplotlib) (7.2.0)\n",
      "Requirement already satisfied, skipping upgrade: six in c:\\users\\harry\\appdata\\roaming\\python\\python38\\site-packages (from cycler>=0.10->matplotlib) (1.15.0)\n"
     ]
    }
   ],
   "source": [
    "# Data Analysis Packages\n",
    "import numpy as np\n",
    "import pandas as pd\n",
    "import matplotlib as mpl\n",
    "import sklearn\n",
    "\n",
    "# -- Utility Packages\n",
    "import bs4\n",
    "import re\n",
    "\n",
    "# ---- Folium for Map Generation\n",
    "import folium\n",
    "\n",
    "# ---- Packages used for API calls\n",
    "import requests\n",
    "\n",
    "# ---- os for drawing out API keys from enviroment variables\n",
    "import os\n",
    "\n",
    "from sklearn.cluster import KMeans\n",
    "import matplotlib.cm as cm\n",
    "import matplotlib.colors as colors"
   ]
  },
  {
   "cell_type": "code",
   "execution_count": null,
   "metadata": {},
   "outputs": [],
   "source": [
    "# Retrieve Secret and ID from Enviroment Variables\n",
    "CLIENT_ID = os.getenv('CLIENT_ID')\n",
    "CLIENT_SECRET = os.getenv('CLIENT_SECRET')\n",
    "VERSION = '20180323'"
   ]
  },
  {
   "cell_type": "code",
   "execution_count": 4,
   "metadata": {
    "tags": []
   },
   "outputs": [
    {
     "data": {
      "text/plain": [
       "<Response [200]>"
      ]
     },
     "execution_count": 4,
     "metadata": {},
     "output_type": "execute_result"
    }
   ],
   "source": [
    "r = requests.get('https://media.ocgov.com/about/infooc/links/oc/occities.asp')\n",
    "r"
   ]
  },
  {
   "cell_type": "code",
   "execution_count": 9,
   "metadata": {},
   "outputs": [],
   "source": [
    "soup = bs4.BeautifulSoup(r.text)"
   ]
  },
  {
   "cell_type": "code",
   "execution_count": 14,
   "metadata": {},
   "outputs": [],
   "source": []
  },
  {
   "cell_type": "code",
   "execution_count": 41,
   "metadata": {},
   "outputs": [
    {
     "data": {
      "text/plain": [
       "['Aliso Viejo',\n",
       " 'Anaheim',\n",
       " 'Brea',\n",
       " 'Buena Park',\n",
       " 'Costa Mesa',\n",
       " 'Cypress',\n",
       " 'Dana Point',\n",
       " 'Fountain Valley',\n",
       " 'Fullerton',\n",
       " 'Garden Grove',\n",
       " 'Huntington Beach',\n",
       " 'Irvine',\n",
       " 'La Habra',\n",
       " 'La Palma',\n",
       " 'Laguna Beach',\n",
       " 'Laguna Hills',\n",
       " 'Laguna Niguel',\n",
       " 'Laguna Woods',\n",
       " 'Lake Forest',\n",
       " 'Los Alamitos',\n",
       " 'Mission Viejo',\n",
       " 'Newport Beach',\n",
       " 'Orange',\n",
       " 'Placentia',\n",
       " 'Rancho Santa Margarita',\n",
       " 'San Clemente',\n",
       " 'San Juan Capistrano',\n",
       " 'Santa Ana',\n",
       " 'Seal Beach',\n",
       " 'Stanton',\n",
       " 'Tustin',\n",
       " 'Villa Park',\n",
       " 'Westminster',\n",
       " 'Yorba Linda']"
      ]
     },
     "execution_count": 41,
     "metadata": {},
     "output_type": "execute_result"
    }
   ],
   "source": []
  },
  {
   "cell_type": "code",
   "execution_count": 36,
   "metadata": {},
   "outputs": [
    {
     "data": {
      "text/plain": [
       "'City of Aliso Viejo'"
      ]
     },
     "execution_count": 36,
     "metadata": {},
     "output_type": "execute_result"
    }
   ],
   "source": []
  },
  {
   "cell_type": "code",
   "execution_count": 40,
   "metadata": {},
   "outputs": [
    {
     "name": "stdout",
     "output_type": "stream",
     "text": [
      "Aliso Viejo <class 'str'>\n"
     ]
    }
   ],
   "source": []
  },
  {
   "cell_type": "code",
   "execution_count": 39,
   "metadata": {},
   "outputs": [
    {
     "data": {
      "text/plain": [
       "'Aliso Viejo'"
      ]
     },
     "execution_count": 39,
     "metadata": {},
     "output_type": "execute_result"
    }
   ],
   "source": []
  },
  {
   "cell_type": "code",
   "execution_count": null,
   "metadata": {},
   "outputs": [],
   "source": []
  }
 ],
 "metadata": {
  "kernelspec": {
   "display_name": "Python 3",
   "language": "python",
   "name": "python3"
  },
  "language_info": {
   "codemirror_mode": {
    "name": "ipython",
    "version": 3
   },
   "file_extension": ".py",
   "mimetype": "text/x-python",
   "name": "python",
   "nbconvert_exporter": "python",
   "pygments_lexer": "ipython3",
   "version": "3.8.4"
  }
 },
 "nbformat": 4,
 "nbformat_minor": 4
}
